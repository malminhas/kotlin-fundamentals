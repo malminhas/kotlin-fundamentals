{
 "cells": [
  {
   "cell_type": "markdown",
   "metadata": {},
   "source": [
    "<div style=\"width: 100%; overflow: hidden;\">\n",
    "    <div style=\"float: left; margin-left: 10px;\"> \n",
    "<h1>Game of Life</h1>\n",
    "        <p>Mal Minhas<br/>\n",
    "        </p></div>\n",
    "</div>"
   ]
  },
  {
   "cell_type": "markdown",
   "metadata": {},
   "source": [
    "Let's start with the core precepts for [Conway's Game of Life](https://github.com/norvig/pytudes/blob/master/ipynb/Life.ipynb):\n",
    "\n",
    "> The world of the Game of Life is an infinite two-dimensional orthogonal grid of cells, each of which is in one of two possible states, live or empty. Each cell has eight neighbors, the cells that are horizontally, vertically, or diagonally adjacent. At each step in time, the following rules are applied to create the next generation:\n",
    "> * Any live cell with two or three live neighbors lives on to the next generation.\n",
    "> * Any empty cell with exactly three live neighbors becomes a live cell in the next generation.\n",
    "> * All other cells are empty in the next generation.\n"
   ]
  },
  {
   "cell_type": "markdown",
   "metadata": {},
   "source": [
    "## 1. Grids"
   ]
  },
  {
   "cell_type": "markdown",
   "metadata": {},
   "source": [
    "The basic strategy will be to build a `grid` from a given dictionary of cells.  Both the grid and cells are a `dict`"
   ]
  },
  {
   "cell_type": "code",
   "execution_count": 1,
   "metadata": {},
   "outputs": [],
   "source": [
    "from IPython.display import clear_output, display_html\n",
    "\n",
    "ALIVE = '@'\n",
    "EMPTY = '.'\n",
    "DEAD  = 'x'\n",
    "PAD   = ' '\n",
    "\n",
    "inTheBeginning = {(1,2):ALIVE, (1,3):ALIVE, (2,3):ALIVE, (3,1):ALIVE}\n",
    "\n",
    "def validateGrid(grid):\n",
    "    x, y= grid.get('x'), grid.get('y')\n",
    "    population = grid.get('population')\n",
    "    cells = grid.get('cells')\n",
    "    assert(x > 0)\n",
    "    assert(y > 0)\n",
    "    alive = [k for k,v in cells.items() if v == ALIVE]\n",
    "    assert(population == len(alive))\n",
    "    \n",
    "def buildGrid(cells, x, y):\n",
    "    grid = {}\n",
    "    new_cells = {}\n",
    "    alive = cells.keys()\n",
    "    for i in range(y):\n",
    "        for j in range(x):\n",
    "            ch = EMPTY\n",
    "            cell = (j,i)\n",
    "            if cell in alive:\n",
    "                ch = cells.get(cell)\n",
    "            new_cells[cell] = ch\n",
    "    grid['x'] = x\n",
    "    grid['y'] = y\n",
    "    living = [k for k,v in cells.items() if v == ALIVE]\n",
    "    grid['population'] = len(living)\n",
    "    grid['cells'] = new_cells\n",
    "    validateGrid(grid)\n",
    "    return grid\n",
    "            \n",
    "def formatCells(cells, x, y):\n",
    "    s = ''\n",
    "    for i in range(y):\n",
    "        row = ''\n",
    "        for j in range(x):\n",
    "            cell = (j,i)\n",
    "            ch = cells.get(cell)\n",
    "            assert(ch)\n",
    "            row += f'{PAD}{ch}'\n",
    "        s += f'{row}\\n'\n",
    "    return s\n",
    "\n",
    "def formatGrid(grid, n):\n",
    "    s = ''\n",
    "    x, y = grid.get('x'), grid.get('y')\n",
    "    cells = grid.get('cells')\n",
    "    population = grid.get('population')\n",
    "    s += f'Generation={n:03d}, Population={population}\\n'\n",
    "    s += f'<pre>{formatCells(cells, x, y)}</pre>\\n'\n",
    "    return s\n",
    "\n",
    "def drawGrid(grid, n):\n",
    "    html = formatGrid(grid, n)\n",
    "    display_html(html, raw=True)"
   ]
  },
  {
   "cell_type": "code",
   "execution_count": 2,
   "metadata": {},
   "outputs": [
    {
     "data": {
      "text/html": [
       "Generation=000, Population=4\n",
       "<pre> . . . . .\n",
       " . . . @ .\n",
       " . @ . . .\n",
       " . @ @ . .\n",
       " . . . . .\n",
       "</pre>\n"
      ]
     },
     "metadata": {},
     "output_type": "display_data"
    }
   ],
   "source": [
    "drawGrid(buildGrid(inTheBeginning, 5, 5), 0)"
   ]
  },
  {
   "cell_type": "code",
   "execution_count": 3,
   "metadata": {},
   "outputs": [
    {
     "data": {
      "text/html": [
       "Generation=000, Population=4\n",
       "<pre> . . . . . . . . . . . . . . . . . . . . . . . . . . . . . . . . . . . . . . . . . . . . .\n",
       " . . . @ . . . . . . . . . . . . . . . . . . . . . . . . . . . . . . . . . . . . . . . . .\n",
       " . @ . . . . . . . . . . . . . . . . . . . . . . . . . . . . . . . . . . . . . . . . . . .\n",
       " . @ @ . . . . . . . . . . . . . . . . . . . . . . . . . . . . . . . . . . . . . . . . . .\n",
       " . . . . . . . . . . . . . . . . . . . . . . . . . . . . . . . . . . . . . . . . . . . . .\n",
       " . . . . . . . . . . . . . . . . . . . . . . . . . . . . . . . . . . . . . . . . . . . . .\n",
       "</pre>\n"
      ]
     },
     "metadata": {},
     "output_type": "display_data"
    }
   ],
   "source": [
    "drawGrid(buildGrid(inTheBeginning, 45, 6), 0)"
   ]
  },
  {
   "cell_type": "markdown",
   "metadata": {},
   "source": [
    "## 2. Neighbours and the next generation"
   ]
  },
  {
   "cell_type": "markdown",
   "metadata": {},
   "source": [
    "In order to generate the next generation we need to build and then iterate every cell of the corresponding grid:"
   ]
  },
  {
   "cell_type": "code",
   "execution_count": 4,
   "metadata": {},
   "outputs": [],
   "source": [
    "def getLivingNeighbours(cell, grid, x=20, y=20):\n",
    "    cx, cy = cell\n",
    "    cells = grid.get('cells')\n",
    "    alive = cells.keys()\n",
    "    neighbours = []\n",
    "    candidates = [((cx-1)%x,(cy-1)%y), (cx%x,(cy-1)%y), ((cx+1)%x,(cy-1)%y),\n",
    "                  ((cx-1)%x,cy%y),                      ((cx+1)%x,cy%y),\n",
    "                  ((cx-1)%x,(cy+1)%y), (cx%x,(cy+1)%y), ((cx+1)%x,(cy+1)%y)]\n",
    "    for neighbour in candidates:\n",
    "        if neighbour in alive and cells.get(neighbour) == ALIVE:\n",
    "            neighbours.append(neighbour)\n",
    "    return neighbours\n",
    "\n",
    "def getNextGeneration(grid):\n",
    "    cells = grid.get('cells')\n",
    "    x, y = grid.get('x'), grid.get('y')\n",
    "    new_cells = {}\n",
    "    # 1. Any live cell with two or three live neighbors lives on to the next generation.\n",
    "    for cell,status in cells.items():\n",
    "        if status == ALIVE:\n",
    "            nn = len(getLivingNeighbours(cell, grid, x, y))\n",
    "            if nn == 2 or nn == 3:\n",
    "                new_cells[cell] = ALIVE\n",
    "            else:\n",
    "                new_cells[cell] = DEAD\n",
    "    # 2. Any empty cell with exactly three live neighbors becomes a live cell in the next generation.\n",
    "    for cell,status in cells.items():\n",
    "        if status in [EMPTY, DEAD]:\n",
    "            nn = len(getLivingNeighbours(cell, grid, x, y))\n",
    "            if nn == 3:\n",
    "                new_cells[cell] = ALIVE\n",
    "    # 3. All other cells are empty in the next generation.\n",
    "    # Prep and return our new_world grid\n",
    "    new_world = buildGrid(new_cells, x, y)\n",
    "    return new_world"
   ]
  },
  {
   "cell_type": "markdown",
   "metadata": {},
   "source": [
    "Let's test `getLivingNeighbours` with our original grid.  To recap that grid was:"
   ]
  },
  {
   "cell_type": "code",
   "execution_count": 5,
   "metadata": {},
   "outputs": [
    {
     "data": {
      "text/html": [
       "Generation=001, Population=4\n",
       "<pre> . . . . .\n",
       " . . . @ .\n",
       " . @ . . .\n",
       " . @ @ . .\n",
       " . . . . .\n",
       "</pre>\n"
      ]
     },
     "metadata": {},
     "output_type": "display_data"
    }
   ],
   "source": [
    "grid = buildGrid(inTheBeginning, 5, 5)\n",
    "drawGrid(grid, 1)"
   ]
  },
  {
   "cell_type": "markdown",
   "metadata": {},
   "source": [
    "Here is a complete test set for testing that we are returning the right neighbour count for each cell of this grid:"
   ]
  },
  {
   "cell_type": "code",
   "execution_count": 6,
   "metadata": {},
   "outputs": [],
   "source": [
    "# First column\n",
    "assert(len(getLivingNeighbours((0, 0), grid)) == 0)\n",
    "assert(len(getLivingNeighbours((0, 1), grid)) == 1)\n",
    "assert(len(getLivingNeighbours((0, 2), grid)) == 2)\n",
    "assert(len(getLivingNeighbours((0, 3), grid)) == 2)\n",
    "assert(len(getLivingNeighbours((0, 4), grid)) == 1)\n",
    "# Second column\n",
    "assert(len(getLivingNeighbours((1, 0), grid)) == 0)\n",
    "assert(len(getLivingNeighbours((1, 1), grid)) == 1)\n",
    "assert(len(getLivingNeighbours((1, 2), grid)) == 2)\n",
    "assert(len(getLivingNeighbours((1, 3), grid)) == 2)\n",
    "assert(len(getLivingNeighbours((1, 4), grid)) == 2)\n",
    "# Third column\n",
    "assert(len(getLivingNeighbours((2, 0), grid)) == 1)\n",
    "assert(len(getLivingNeighbours((2, 1), grid)) == 2)\n",
    "assert(len(getLivingNeighbours((2, 2), grid)) == 4)\n",
    "assert(len(getLivingNeighbours((2, 3), grid)) == 2)\n",
    "assert(len(getLivingNeighbours((2, 4), grid)) == 2)\n",
    "# Fourth column\n",
    "assert(len(getLivingNeighbours((3, 0), grid)) == 1)\n",
    "assert(len(getLivingNeighbours((3, 1), grid)) == 0)\n",
    "assert(len(getLivingNeighbours((3, 2), grid)) == 2)\n",
    "assert(len(getLivingNeighbours((3, 3), grid)) == 1)\n",
    "assert(len(getLivingNeighbours((3, 4), grid)) == 1)\n",
    "# Fifth column\n",
    "assert(len(getLivingNeighbours((4, 0), grid)) == 1)\n",
    "assert(len(getLivingNeighbours((4, 1), grid)) == 1)\n",
    "assert(len(getLivingNeighbours((4, 2), grid)) == 1)\n",
    "assert(len(getLivingNeighbours((4, 3), grid)) == 0)\n",
    "assert(len(getLivingNeighbours((4, 4), grid)) == 0)"
   ]
  },
  {
   "cell_type": "markdown",
   "metadata": {},
   "source": [
    "Now we can build the next generation and draw it:"
   ]
  },
  {
   "cell_type": "code",
   "execution_count": 7,
   "metadata": {},
   "outputs": [
    {
     "data": {
      "text/html": [
       "Generation=001, Population=3\n",
       "<pre> . . . . .\n",
       " . . . x .\n",
       " . @ . . .\n",
       " . @ @ . .\n",
       " . . . . .\n",
       "</pre>\n"
      ]
     },
     "metadata": {},
     "output_type": "display_data"
    }
   ],
   "source": [
    "newGrid= getNextGeneration(grid)\n",
    "drawGrid(newGrid, 1)"
   ]
  },
  {
   "cell_type": "markdown",
   "metadata": {},
   "source": [
    "And the next generation beyond that:"
   ]
  },
  {
   "cell_type": "code",
   "execution_count": 8,
   "metadata": {},
   "outputs": [
    {
     "data": {
      "text/html": [
       "Generation=002, Population=4\n",
       "<pre> . . . . .\n",
       " . . . . .\n",
       " . @ @ . .\n",
       " . @ @ . .\n",
       " . . . . .\n",
       "</pre>\n"
      ]
     },
     "metadata": {},
     "output_type": "display_data"
    }
   ],
   "source": [
    "newNewGrid= getNextGeneration(newGrid)\n",
    "drawGrid(newNewGrid, 2)"
   ]
  },
  {
   "cell_type": "markdown",
   "metadata": {},
   "source": [
    "This cross-checks with Norvig's notes.  Now we have a mechanism for stepping a generation we can animate it."
   ]
  },
  {
   "cell_type": "markdown",
   "metadata": {},
   "source": [
    "## 2. Animation"
   ]
  },
  {
   "cell_type": "markdown",
   "metadata": {},
   "source": [
    "To animate the simulation we need to build a loop that cycles through subsequent generations.  Note the use of `wait=True` in the call to `clear_output` which is needed to prevent display glitches per the description [here](https://ipywidgets.readthedocs.io/en/stable/examples/Output%20Widget.html)."
   ]
  },
  {
   "cell_type": "code",
   "execution_count": 9,
   "metadata": {},
   "outputs": [
    {
     "data": {
      "text/html": [
       "Generation=010, Population=3\n",
       "<pre> . . . . . . . . . .\n",
       " . . . . . . . . . .\n",
       " . . . . x . . . . .\n",
       " . . . @ @ @ . . . .\n",
       " . . . . x . . . . .\n",
       " . . . . . . . . . .\n",
       " . . . . . . . . . .\n",
       " . . . . . . . . . .\n",
       " . . . . . . . . . .\n",
       " . . . . . . . . . .\n",
       "</pre>\n"
      ]
     },
     "metadata": {},
     "output_type": "display_data"
    }
   ],
   "source": [
    "import time\n",
    "from IPython.display import clear_output, HTML, display, display_html\n",
    "\n",
    "blinker = {(3,3):ALIVE, (4,3):ALIVE, (5,3):ALIVE}\n",
    "\n",
    "def animateWorld(world, x, y, generations, delay=0.5):\n",
    "    grid = buildGrid(world, x, y)\n",
    "    drawGrid(grid, 0)\n",
    "    for g in range(generations):\n",
    "        time.sleep(delay)\n",
    "        grid = getNextGeneration(grid)\n",
    "        clear_output(wait=True)\n",
    "        drawGrid(grid, g+1)\n",
    "        \n",
    "animateWorld(blinker, 10, 10, 10)"
   ]
  },
  {
   "cell_type": "markdown",
   "metadata": {},
   "source": [
    "See also Jake van der Plas 2013 implementation [here](https://jakevdp.github.io/blog/2013/08/07/conways-game-of-life/) which offers further insight. `ipycanvas` provides another starting point [here](https://ipycanvas.readthedocs.io/).  We can reset the characteristics of our primary cells to give a different rendition of the game of life as follows:"
   ]
  },
  {
   "cell_type": "code",
   "execution_count": 10,
   "metadata": {},
   "outputs": [
    {
     "data": {
      "text/html": [
       "Generation=200, Population=5\n",
       "<pre>█         \n",
       " ██       \n",
       "██        \n",
       "          \n",
       "          \n",
       "          \n",
       "          \n",
       "          \n",
       "          \n",
       "          \n",
       "</pre>\n"
      ]
     },
     "metadata": {},
     "output_type": "display_data"
    }
   ],
   "source": [
    "ALIVE = u'\\u2588' \n",
    "EMPTY = ' '\n",
    "DEAD  = ' '\n",
    "PAD   = ''\n",
    "\n",
    "glider = {(0,0):ALIVE, (1,1):ALIVE, (2,1):ALIVE, (0,2):ALIVE, (1,2):ALIVE}\n",
    "animateWorld(glider, 10, 10, 200, delay=0.01)"
   ]
  },
  {
   "cell_type": "markdown",
   "metadata": {},
   "source": [
    "## 3. Exploring different worlds"
   ]
  },
  {
   "cell_type": "code",
   "execution_count": 11,
   "metadata": {},
   "outputs": [
    {
     "data": {
      "text/html": [
       "Generation=200, Population=3\n",
       "<pre>          \n",
       "          \n",
       "          \n",
       "   ███    \n",
       "          \n",
       "          \n",
       "          \n",
       "          \n",
       "          \n",
       "          \n",
       "</pre>\n"
      ]
     },
     "metadata": {},
     "output_type": "display_data"
    }
   ],
   "source": [
    "# Interesting worlds\n",
    "blinker = {(3,3):ALIVE, (4,3):ALIVE, (5,3):ALIVE}\n",
    "#toad =\n",
    "\n",
    "#toad        = shape(\".@@@\\n@@@.\")\n",
    "animateWorld(blinker, 10, 10, 200, delay=0.01)"
   ]
  },
  {
   "cell_type": "code",
   "execution_count": null,
   "metadata": {},
   "outputs": [],
   "source": []
  }
 ],
 "metadata": {
  "kernelspec": {
   "display_name": "Python 3",
   "language": "python",
   "name": "python3"
  },
  "language_info": {
   "codemirror_mode": {
    "name": "ipython",
    "version": 3
   },
   "file_extension": ".py",
   "mimetype": "text/x-python",
   "name": "python",
   "nbconvert_exporter": "python",
   "pygments_lexer": "ipython3",
   "version": "3.9.2"
  }
 },
 "nbformat": 4,
 "nbformat_minor": 4
}
