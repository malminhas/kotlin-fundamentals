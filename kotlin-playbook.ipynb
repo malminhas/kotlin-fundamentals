{
 "cells": [
  {
   "cell_type": "markdown",
   "metadata": {},
   "source": [
    "## Kotlin playbook"
   ]
  },
  {
   "cell_type": "markdown",
   "metadata": {},
   "source": [
    "<p>\n",
    "    Mal Minhas 14.02.21<br>\n",
    "    Version 0.1\n",
    "</p>"
   ]
  },
  {
   "cell_type": "markdown",
   "metadata": {},
   "source": [
    "### 1. Installation"
   ]
  },
  {
   "cell_type": "markdown",
   "metadata": {},
   "source": [
    "Assuming you have a valid Kotlin and Jupyter Notebook setup on your host computer, install kotlin Jupyter kernel support as follows:"
   ]
  },
  {
   "cell_type": "markdown",
   "metadata": {},
   "source": [
    "`$ pip install kotlin-jupyter-kernel`"
   ]
  },
  {
   "cell_type": "markdown",
   "metadata": {},
   "source": [
    "Now select the Kotlin kernel from the kernel list for your notebook:"
   ]
  },
  {
   "cell_type": "markdown",
   "metadata": {},
   "source": [
    "![KotlinKernel.png](KotlinKernel.png)"
   ]
  },
  {
   "cell_type": "markdown",
   "metadata": {},
   "source": [
    "### 2. Working with functions"
   ]
  },
  {
   "cell_type": "markdown",
   "metadata": {},
   "source": [
    "#### 2.1 Creation"
   ]
  },
  {
   "cell_type": "markdown",
   "metadata": {},
   "source": [
    "Favour *single-expression function* form with type inference:"
   ]
  },
  {
   "cell_type": "code",
   "execution_count": 1,
   "metadata": {},
   "outputs": [
    {
     "name": "stdout",
     "output_type": "stream",
     "text": [
      "Hello\n"
     ]
    }
   ],
   "source": [
    "fun greet() = \"Hello\"\n",
    "println(greet())"
   ]
  },
  {
   "cell_type": "markdown",
   "metadata": {},
   "source": [
    "All functions are expressions that return a value.  Default inferred type is `Unit`:"
   ]
  },
  {
   "cell_type": "code",
   "execution_count": 2,
   "metadata": {},
   "outputs": [
    {
     "name": "stdout",
     "output_type": "stream",
     "text": [
      "Hello\n"
     ]
    }
   ],
   "source": [
    "fun greet(): Unit = println(\"Hello\")\n",
    "val message: Unit = greet()"
   ]
  },
  {
   "cell_type": "markdown",
   "metadata": {},
   "source": [
    "Default parameters:"
   ]
  },
  {
   "cell_type": "code",
   "execution_count": 3,
   "metadata": {},
   "outputs": [
    {
     "name": "stdout",
     "output_type": "stream",
     "text": [
      "Hello, Adam\n",
      "Hello, Eve\n",
      "Hello, Alice\n"
     ]
    }
   ],
   "source": [
    "fun greet(name: String = \"Adam\"): String = \"Hello, $name\"\n",
    "println(greet())\n",
    "println(greet(\"Eve\"))\n",
    "println(greet(name = \"Alice\"))"
   ]
  },
  {
   "cell_type": "markdown",
   "metadata": {},
   "source": [
    "#### 2.2 Vararg"
   ]
  },
  {
   "cell_type": "code",
   "execution_count": 4,
   "metadata": {},
   "outputs": [
    {
     "name": "stdout",
     "output_type": "stream",
     "text": [
      "12\n"
     ]
    }
   ],
   "source": [
    "fun max(vararg numbers: Int): Int {\n",
    "    var large = Int.MIN_VALUE\n",
    "    for (number in numbers) {\n",
    "        large = if (number > large) number else large\n",
    "    }\n",
    "    return large\n",
    "}\n",
    "\n",
    "println(max(1, 5, 7, 12, 7, 3))"
   ]
  },
  {
   "cell_type": "markdown",
   "metadata": {},
   "source": [
    "Can also use the spread operator:"
   ]
  },
  {
   "cell_type": "code",
   "execution_count": 5,
   "metadata": {},
   "outputs": [
    {
     "name": "stdout",
     "output_type": "stream",
     "text": [
      "12\n"
     ]
    }
   ],
   "source": [
    "val values = intArrayOf(1, 5, 7, 12, 7, 3)\n",
    "println(max(*values))"
   ]
  },
  {
   "cell_type": "markdown",
   "metadata": {},
   "source": [
    "### 3. Iteration"
   ]
  },
  {
   "cell_type": "markdown",
   "metadata": {},
   "source": [
    "#### 3.1 Range"
   ]
  },
  {
   "cell_type": "markdown",
   "metadata": {},
   "source": [
    "Can iterate a range:"
   ]
  },
  {
   "cell_type": "code",
   "execution_count": 6,
   "metadata": {},
   "outputs": [
    {
     "name": "stdout",
     "output_type": "stream",
     "text": [
      "1,2,3,4,5,"
     ]
    }
   ],
   "source": [
    "for (i in 1..5) { print(\"$i,\") }"
   ]
  },
  {
   "cell_type": "code",
   "execution_count": 7,
   "metadata": {},
   "outputs": [
    {
     "name": "stdout",
     "output_type": "stream",
     "text": [
      "10,7,4,1,"
     ]
    }
   ],
   "source": [
    "for (i in 10 downTo 0 step 3) { print(\"$i,\") }"
   ]
  },
  {
   "cell_type": "markdown",
   "metadata": {},
   "source": [
    "#### 3.2 Arrays and Lists"
   ]
  },
  {
   "cell_type": "code",
   "execution_count": 8,
   "metadata": {},
   "outputs": [
    {
     "name": "stdout",
     "output_type": "stream",
     "text": [
      "1, 2, 3, 5, 7, "
     ]
    }
   ],
   "source": [
    "val array = arrayOf(1, 2, 3, 5, 7)\n",
    "for (e in array) { print(\"$e, \") }"
   ]
  },
  {
   "cell_type": "markdown",
   "metadata": {},
   "source": [
    "Can also use `list`:"
   ]
  },
  {
   "cell_type": "code",
   "execution_count": 9,
   "metadata": {},
   "outputs": [
    {
     "name": "stdout",
     "output_type": "stream",
     "text": [
      "0: 1, 1: 2, 2: 3, 3: 5, 4: 7, "
     ]
    }
   ],
   "source": [
    "val numbers = listOf(1, 2, 3, 5, 7)\n",
    "for ((index,e) in numbers.withIndex()) { print(\"$index: $e, \") }"
   ]
  },
  {
   "cell_type": "markdown",
   "metadata": {},
   "source": [
    "#### 3.3 `when`"
   ]
  },
  {
   "cell_type": "markdown",
   "metadata": {},
   "source": [
    "Used as an expression:"
   ]
  },
  {
   "cell_type": "code",
   "execution_count": 10,
   "metadata": {},
   "outputs": [
    {
     "name": "stdout",
     "output_type": "stream",
     "text": [
      "true\n",
      "true\n",
      "true\n",
      "true\n"
     ]
    }
   ],
   "source": [
    "fun isAlive(alive: Boolean, numberOfLiveNeighbours: Int): Boolean = when {\n",
    "    numberOfLiveNeighbours < 2 -> false\n",
    "    numberOfLiveNeighbours > 3 -> false\n",
    "    numberOfLiveNeighbours == 3 -> true\n",
    "    else -> alive && numberOfLiveNeighbours == 2\n",
    "}\n",
    "\n",
    "println(isAlive(true, 2) === true)\n",
    "println(isAlive(false, 2) == false) \n",
    "println(isAlive(false, 3) === true) \n",
    "println(isAlive(true, 3) === true) "
   ]
  },
  {
   "cell_type": "markdown",
   "metadata": {},
   "source": [
    "`when` as a statement returning Unit:"
   ]
  },
  {
   "cell_type": "code",
   "execution_count": 11,
   "metadata": {},
   "outputs": [
    {
     "name": "stdout",
     "output_type": "stream",
     "text": [
      "8 cores\n"
     ]
    }
   ],
   "source": [
    "fun systemInfo(): Unit = \n",
    "    when (val numberOfCores = Runtime.getRuntime().availableProcessors()) {\n",
    "        1 -> println(\"1 core\")\n",
    "        in 2..16 -> println(\"$numberOfCores cores\")\n",
    "        else -> println(\"$numberOfCores.  I want your machine!\")\n",
    "    }\n",
    "    \n",
    "systemInfo()"
   ]
  },
  {
   "cell_type": "markdown",
   "metadata": {},
   "source": [
    "### 4. Collections"
   ]
  },
  {
   "cell_type": "code",
   "execution_count": null,
   "metadata": {},
   "outputs": [],
   "source": []
  }
 ],
 "metadata": {
  "kernelspec": {
   "display_name": "Kotlin",
   "language": "kotlin",
   "name": "kotlin"
  },
  "language_info": {
   "codemirror_mode": "text/x-kotlin",
   "file_extension": ".kt",
   "mimetype": "text/x-kotlin",
   "name": "kotlin",
   "pygments_lexer": "kotlin",
   "version": "1.5.0-dev-1206"
  }
 },
 "nbformat": 4,
 "nbformat_minor": 4
}
