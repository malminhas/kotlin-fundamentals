{
 "cells": [
  {
   "cell_type": "markdown",
   "metadata": {},
   "source": [
    "## Kotlin playbook"
   ]
  },
  {
   "cell_type": "markdown",
   "metadata": {},
   "source": [
    "<p>\n",
    "    Mal Minhas 14.02.21<br>\n",
    "    Version 0.1\n",
    "</p>"
   ]
  },
  {
   "cell_type": "markdown",
   "metadata": {},
   "source": [
    "### 1. Installation"
   ]
  },
  {
   "cell_type": "markdown",
   "metadata": {},
   "source": [
    "Assuming you have a valid Kotlin and Jupyter Notebook setup on your host computer, install kotlin Jupyter kernel support as follows:"
   ]
  },
  {
   "cell_type": "markdown",
   "metadata": {},
   "source": [
    "`$ pip install kotlin-jupyter-kernel`"
   ]
  },
  {
   "cell_type": "markdown",
   "metadata": {},
   "source": [
    "Now select the Kotlin kernel from the kernel list for your notebook:"
   ]
  },
  {
   "cell_type": "markdown",
   "metadata": {},
   "source": [
    "<img src=\"kotlinKernel.png\" />"
   ]
  },
  {
   "cell_type": "markdown",
   "metadata": {},
   "source": [
    "### 2.Functions"
   ]
  },
  {
   "cell_type": "markdown",
   "metadata": {},
   "source": [
    "#### 2.1 Creation"
   ]
  },
  {
   "cell_type": "markdown",
   "metadata": {},
   "source": [
    "Favour *single-expression function* form with type inference:"
   ]
  },
  {
   "cell_type": "code",
   "execution_count": 1,
   "metadata": {},
   "outputs": [
    {
     "name": "stdout",
     "output_type": "stream",
     "text": [
      "Hello\n"
     ]
    }
   ],
   "source": [
    "fun greet() = \"Hello\"\n",
    "println(greet())"
   ]
  },
  {
   "cell_type": "markdown",
   "metadata": {},
   "source": [
    "All functions are expressions that return a value.  Default inferred type is `Unit`:"
   ]
  },
  {
   "cell_type": "code",
   "execution_count": 2,
   "metadata": {},
   "outputs": [
    {
     "name": "stdout",
     "output_type": "stream",
     "text": [
      "Hello\n"
     ]
    }
   ],
   "source": [
    "fun greet(): Unit = println(\"Hello\")\n",
    "val message: Unit = greet()"
   ]
  },
  {
   "cell_type": "markdown",
   "metadata": {},
   "source": [
    "Default parameters:"
   ]
  },
  {
   "cell_type": "code",
   "execution_count": 3,
   "metadata": {},
   "outputs": [
    {
     "name": "stdout",
     "output_type": "stream",
     "text": [
      "Hello, Adam\n",
      "Hello, Eve\n",
      "Hello, Alice\n"
     ]
    }
   ],
   "source": [
    "fun greet(name: String = \"Adam\"): String = \"Hello, $name\"\n",
    "println(greet())\n",
    "println(greet(\"Eve\"))\n",
    "println(greet(name = \"Alice\"))"
   ]
  },
  {
   "cell_type": "markdown",
   "metadata": {},
   "source": [
    "#### 2.2 Vararg"
   ]
  },
  {
   "cell_type": "code",
   "execution_count": 4,
   "metadata": {},
   "outputs": [
    {
     "name": "stdout",
     "output_type": "stream",
     "text": [
      "12\n"
     ]
    }
   ],
   "source": [
    "fun max(vararg numbers: Int): Int {\n",
    "    var large = Int.MIN_VALUE\n",
    "    for (number in numbers) {\n",
    "        large = if (number > large) number else large\n",
    "    }\n",
    "    return large\n",
    "}\n",
    "\n",
    "println(max(1, 5, 7, 12, 7, 3))"
   ]
  },
  {
   "cell_type": "markdown",
   "metadata": {},
   "source": [
    "Can also use the spread operator:"
   ]
  },
  {
   "cell_type": "code",
   "execution_count": 5,
   "metadata": {},
   "outputs": [
    {
     "name": "stdout",
     "output_type": "stream",
     "text": [
      "12\n"
     ]
    }
   ],
   "source": [
    "val values = intArrayOf(1, 5, 7, 12, 7, 3)\n",
    "println(max(*values))"
   ]
  },
  {
   "cell_type": "markdown",
   "metadata": {},
   "source": [
    "### 3. Iteration"
   ]
  },
  {
   "cell_type": "markdown",
   "metadata": {},
   "source": [
    "#### 3.1 Range"
   ]
  },
  {
   "cell_type": "markdown",
   "metadata": {},
   "source": [
    "Can iterate a range:"
   ]
  },
  {
   "cell_type": "code",
   "execution_count": 6,
   "metadata": {},
   "outputs": [
    {
     "name": "stdout",
     "output_type": "stream",
     "text": [
      "1,2,3,4,5,"
     ]
    }
   ],
   "source": [
    "for (i in 1..5) { print(\"$i,\") }"
   ]
  },
  {
   "cell_type": "code",
   "execution_count": 7,
   "metadata": {},
   "outputs": [
    {
     "name": "stdout",
     "output_type": "stream",
     "text": [
      "10,7,4,1,"
     ]
    }
   ],
   "source": [
    "for (i in 10 downTo 0 step 3) { print(\"$i,\") }"
   ]
  },
  {
   "cell_type": "markdown",
   "metadata": {},
   "source": [
    "#### 3.2 Arrays and Lists"
   ]
  },
  {
   "cell_type": "code",
   "execution_count": 8,
   "metadata": {},
   "outputs": [
    {
     "name": "stdout",
     "output_type": "stream",
     "text": [
      "1, 2, 3, 5, 7, "
     ]
    }
   ],
   "source": [
    "val array = arrayOf(1, 2, 3, 5, 7)\n",
    "for (e in array) { print(\"$e, \") }"
   ]
  },
  {
   "cell_type": "markdown",
   "metadata": {},
   "source": [
    "Can also use `list`:"
   ]
  },
  {
   "cell_type": "code",
   "execution_count": 9,
   "metadata": {},
   "outputs": [
    {
     "name": "stdout",
     "output_type": "stream",
     "text": [
      "0: 1, 1: 2, 2: 3, 3: 5, 4: 7, "
     ]
    }
   ],
   "source": [
    "val numbers = listOf(1, 2, 3, 5, 7)\n",
    "for ((index,e) in numbers.withIndex()) { print(\"$index: $e, \") }"
   ]
  },
  {
   "cell_type": "markdown",
   "metadata": {},
   "source": [
    "#### 3.3 `when`"
   ]
  },
  {
   "cell_type": "markdown",
   "metadata": {},
   "source": [
    "Used as an expression:"
   ]
  },
  {
   "cell_type": "code",
   "execution_count": 10,
   "metadata": {},
   "outputs": [
    {
     "name": "stdout",
     "output_type": "stream",
     "text": [
      "true\n",
      "true\n",
      "true\n",
      "true\n"
     ]
    }
   ],
   "source": [
    "fun isAlive(alive: Boolean, numberOfLiveNeighbours: Int): Boolean = when {\n",
    "    numberOfLiveNeighbours < 2 -> false\n",
    "    numberOfLiveNeighbours > 3 -> false\n",
    "    numberOfLiveNeighbours == 3 -> true\n",
    "    else -> alive && numberOfLiveNeighbours == 2\n",
    "}\n",
    "\n",
    "println(isAlive(true, 2) === true)\n",
    "println(isAlive(false, 2) == false) \n",
    "println(isAlive(false, 3) === true) \n",
    "println(isAlive(true, 3) === true) "
   ]
  },
  {
   "cell_type": "markdown",
   "metadata": {},
   "source": [
    "`when` as a statement returning Unit:"
   ]
  },
  {
   "cell_type": "code",
   "execution_count": 11,
   "metadata": {},
   "outputs": [
    {
     "name": "stdout",
     "output_type": "stream",
     "text": [
      "8 cores\n"
     ]
    }
   ],
   "source": [
    "fun systemInfo(): Unit = \n",
    "    when (val numberOfCores = Runtime.getRuntime().availableProcessors()) {\n",
    "        1 -> println(\"1 core\")\n",
    "        in 2..16 -> println(\"$numberOfCores cores\")\n",
    "        else -> println(\"$numberOfCores.  I want your machine!\")\n",
    "    }\n",
    "    \n",
    "systemInfo()"
   ]
  },
  {
   "cell_type": "markdown",
   "metadata": {},
   "source": [
    "### 4. Collections"
   ]
  },
  {
   "cell_type": "markdown",
   "metadata": {},
   "source": [
    "There are a number of collections that provide additional iterator extension functions and views:\n",
    "* `Pair` = tuple of two values\n",
    "* `Tuple` = tuple of three values\n",
    "* `Array` = indexed fixed size collection of objects/primitives\n",
    "* `List` = ordered collection of objects\n",
    "* `Set` = unordered collection of objects\n",
    "* `Map` = associative dictionary or map of keys and values"
   ]
  },
  {
   "cell_type": "markdown",
   "metadata": {},
   "source": [
    "Kotlin provides two different views for `Array`, `List`, `Set` and `Map`, the read-only immutable view and the read-write or mutable view."
   ]
  },
  {
   "cell_type": "markdown",
   "metadata": {},
   "source": [
    "#### 4.1 `Pair`"
   ]
  },
  {
   "cell_type": "markdown",
   "metadata": {},
   "source": [
    "A pair of objects with precise syntax:"
   ]
  },
  {
   "cell_type": "code",
   "execution_count": 12,
   "metadata": {},
   "outputs": [
    {
     "name": "stdout",
     "output_type": "stream",
     "text": [
      "Airport: LAX: Temperature: 33 C\n",
      "Airport: SFO: Temperature: 33 C\n",
      "Airport: SEA: Temperature: 33 C\n",
      "Airport: HTH: Temperature: 34 C\n"
     ]
    }
   ],
   "source": [
    "val airports = listOf(\"LAX\", \"SFO\", \"SEA\", \"HTH\")\n",
    "\n",
    "fun getTemperatureAtAirport(code: String): String = \"${Math.round(Math.random() + 30) + code.count()} C\"\n",
    "// Note the following creates a pair for the temperature map\n",
    "val temperatures = airports.map { code -> code to getTemperatureAtAirport(code) }\n",
    "for (temperature in temperatures) {\n",
    "    println(\"Airport: ${temperature.first}: Temperature: ${temperature.second}\")\n",
    "}"
   ]
  },
  {
   "cell_type": "markdown",
   "metadata": {},
   "source": [
    "#### 4.2 `Arrays`"
   ]
  },
  {
   "cell_type": "markdown",
   "metadata": {},
   "source": [
    "Only use when low-level optimisation is required. Otherwise use `list`."
   ]
  },
  {
   "cell_type": "code",
   "execution_count": 13,
   "metadata": {},
   "outputs": [
    {
     "name": "stdout",
     "output_type": "stream",
     "text": [
      "class kotlin.IntArray\n",
      "class [I\n"
     ]
    }
   ],
   "source": [
    "val numbers = intArrayOf(1, 2, 3)\n",
    "println(numbers::class)\n",
    "println(numbers.javaClass)"
   ]
  },
  {
   "cell_type": "markdown",
   "metadata": {},
   "source": [
    "#### 4.3 `List`"
   ]
  },
  {
   "cell_type": "code",
   "execution_count": 14,
   "metadata": {},
   "outputs": [
    {
     "name": "stdout",
     "output_type": "stream",
     "text": [
      "[Apple, Banana, Grape, Orange]\n"
     ]
    }
   ],
   "source": [
    "val fruits: List<String> = listOf(\"Apple\", \"Banana\", \"Grape\")\n",
    "val fruits2 = fruits + \"Orange\"\n",
    "println(fruits2)"
   ]
  },
  {
   "cell_type": "markdown",
   "metadata": {},
   "source": [
    "#### 4.3 `Map`"
   ]
  },
  {
   "cell_type": "markdown",
   "metadata": {},
   "source": [
    "Map can be built as follows:"
   ]
  },
  {
   "cell_type": "code",
   "execution_count": 15,
   "metadata": {},
   "outputs": [
    {
     "name": "stdout",
     "output_type": "stream",
     "text": [
      "Map has keys [Monkey, Carrot, Quartz] and values [Animal, Vegetable, Mineral]\n"
     ]
    }
   ],
   "source": [
    "val things = mapOf(\"Monkey\" to \"Animal\", \"Carrot\" to \"Vegetable\", \"Quartz\" to \"Mineral\")\n",
    "val typesOfThings = things.keys\n",
    "val theThings = things.values\n",
    "println(\"Map has keys $typesOfThings and values $theThings\")"
   ]
  },
  {
   "cell_type": "code",
   "execution_count": 16,
   "metadata": {},
   "outputs": [
    {
     "name": "stdout",
     "output_type": "stream",
     "text": [
      "Monkey: Animal, Carrot: Vegetable, Quartz: Mineral, "
     ]
    }
   ],
   "source": [
    "for ((k,v) in things){ print(\"$k: $v, \")}"
   ]
  },
  {
   "cell_type": "markdown",
   "metadata": {},
   "source": [
    "### 5. Type Safety"
   ]
  },
  {
   "cell_type": "markdown",
   "metadata": {},
   "source": [
    "#### 5.1. `Any`"
   ]
  },
  {
   "cell_type": "markdown",
   "metadata": {},
   "source": [
    "All classes in Kotlin inherit from `Any`.  Using to give you the maximum flexibility on input/output parameters."
   ]
  },
  {
   "cell_type": "markdown",
   "metadata": {},
   "source": [
    "#### 5.2 Nullable"
   ]
  },
  {
   "cell_type": "markdown",
   "metadata": {},
   "source": [
    "Non-nullable types all have a nullable counterparts.  Nullable types have a `?` suffix.  For example, a nullable `String` would be `String?`.  We can merge a `null` check and call to method or property using `?.` the **safe-call operator**.\n",
    "Here is a function that can take a null string and also return a null using safe-call:"
   ]
  },
  {
   "cell_type": "code",
   "execution_count": 17,
   "metadata": {},
   "outputs": [
    {
     "name": "stdout",
     "output_type": "stream",
     "text": [
      "SENOJ DNA HTIMS\n",
      "null\n"
     ]
    }
   ],
   "source": [
    "fun transformer(name: String?): String? {\n",
    "    return name?.reversed()?.toUpperCase()\n",
    "}\n",
    "\n",
    "println(transformer(\"smith and jones\"))\n",
    "println(transformer(null))"
   ]
  },
  {
   "cell_type": "markdown",
   "metadata": {},
   "source": [
    "The **Elvis operator** `?:` allows us to return something other than `null`:"
   ]
  },
  {
   "cell_type": "code",
   "execution_count": 18,
   "metadata": {},
   "outputs": [
    {
     "name": "stdout",
     "output_type": "stream",
     "text": [
      "SENOJ DNA HTIMS\n",
      "joker\n"
     ]
    }
   ],
   "source": [
    "fun transformer(name: String?): String? {\n",
    "    return name?.reversed()?.toUpperCase() ?: \"joker\"\n",
    "}\n",
    "\n",
    "println(transformer(\"smith and jones\"))\n",
    "println(transformer(null))"
   ]
  },
  {
   "cell_type": "markdown",
   "metadata": {},
   "source": [
    "#### 5.3 Type checks and casts"
   ]
  },
  {
   "cell_type": "markdown",
   "metadata": {},
   "source": [
    "Type check with `is` and typecast with `as`."
   ]
  },
  {
   "cell_type": "markdown",
   "metadata": {},
   "source": [
    "#### 5.4 Generics"
   ]
  },
  {
   "cell_type": "markdown",
   "metadata": {},
   "source": [
    "**Covariance** permits the use of a derived class of a parametric type T to address a situation such as this:"
   ]
  },
  {
   "cell_type": "code",
   "execution_count": 19,
   "metadata": {},
   "outputs": [
    {
     "name": "stderr",
     "output_type": "stream",
     "text": [
      "Line_18.jupyter.kts (9:15 - 22) Type mismatch: inferred type is Array<Line_18_jupyter.Banana> but Array<Line_18_jupyter.Fruit> was expected"
     ]
    }
   ],
   "source": [
    "open class Fruit\n",
    "class Banana: Fruit()\n",
    "class Orange: Fruit()\n",
    "\n",
    "fun receiveFruits(fruits: Array<Fruit>) {\n",
    "    println(\"Number of fruits = ${fruits.size}\")\n",
    "}\n",
    "val bananas: Array<Banana> = arrayOf()\n",
    "receiveFruits(bananas)"
   ]
  },
  {
   "cell_type": "markdown",
   "metadata": {},
   "source": [
    "as follows with `out` to capture the intent to accept a type itself or any of its deived types in its place:"
   ]
  },
  {
   "cell_type": "code",
   "execution_count": 20,
   "metadata": {},
   "outputs": [
    {
     "name": "stdout",
     "output_type": "stream",
     "text": [
      "Number of fruits = 2\n"
     ]
    }
   ],
   "source": [
    "open class Fruit\n",
    "class Banana: Fruit()\n",
    "class Orange: Fruit()\n",
    "\n",
    "fun receiveFruits(fruits: Array<out Fruit>) {\n",
    "    println(\"Number of fruits = ${fruits.size}\")\n",
    "}\n",
    "val bananas: Array<Banana> = arrayOf(Banana(), Banana())\n",
    "receiveFruits(bananas)"
   ]
  },
  {
   "cell_type": "markdown",
   "metadata": {},
   "source": [
    "**Contravariance** permits the use of a super class of a parametric type T to address a situation such as this with `in`:"
   ]
  },
  {
   "cell_type": "code",
   "execution_count": 21,
   "metadata": {},
   "outputs": [],
   "source": [
    "fun copyBasket(from: Array<out Fruit>, to: Array<in Fruit>) {\n",
    "    for (i in 0 until from.size){\n",
    "        to[i] = from[i]\n",
    "    }\n",
    "}\n",
    "\n",
    "val bananaBasket: Array<Banana> = arrayOf(Banana(), Banana())\n",
    "val fruitBasket = Array<Fruit>(2) { _ -> Fruit() }\n",
    "copyBasket(bananaBasket, fruitBasket)"
   ]
  },
  {
   "cell_type": "markdown",
   "metadata": {},
   "source": [
    "### 6. Objects and Classes"
   ]
  },
  {
   "cell_type": "code",
   "execution_count": null,
   "metadata": {},
   "outputs": [],
   "source": []
  }
 ],
 "metadata": {
  "kernelspec": {
   "display_name": "Kotlin",
   "language": "kotlin",
   "name": "kotlin"
  },
  "language_info": {
   "codemirror_mode": "text/x-kotlin",
   "file_extension": ".kt",
   "mimetype": "text/x-kotlin",
   "name": "kotlin",
   "pygments_lexer": "kotlin",
   "version": "1.5.0-dev-1206"
  }
 },
 "nbformat": 4,
 "nbformat_minor": 4
}
