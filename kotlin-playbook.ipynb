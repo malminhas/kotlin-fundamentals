{
 "cells": [
  {
   "cell_type": "markdown",
   "metadata": {},
   "source": [
    "## Kotlin playbook"
   ]
  },
  {
   "cell_type": "markdown",
   "metadata": {},
   "source": [
    "<p>\n",
    "    Mal Minhas 23.02.21<br>\n",
    "    Version 0.4<br>\n",
    "    Thanks are owed to: Sean Keane\n",
    "</p>"
   ]
  },
  {
   "cell_type": "markdown",
   "metadata": {},
   "source": [
    "The following notebook follows the same chapter titles and topics as the superb [Programming Kotlin]() book by Venkat Subramaniam which is what I used to get acquainted with the language.  It provides a _very_ compact summary of the key learning points from the book accompanied by fully working examples that can be executed in a working Jupyter Lab environment running this notebook on your host computer."
   ]
  },
  {
   "cell_type": "markdown",
   "metadata": {},
   "source": [
    "### 1. Configuration"
   ]
  },
  {
   "cell_type": "markdown",
   "metadata": {},
   "source": [
    "Assuming you have a valid Kotlin and Jupyter Lab setup on your host computer, install kotlin Jupyter kernel support as follows:"
   ]
  },
  {
   "cell_type": "markdown",
   "metadata": {},
   "source": [
    "`$ pip install kotlin-jupyter-kernel`"
   ]
  },
  {
   "cell_type": "markdown",
   "metadata": {},
   "source": [
    "Now select the Kotlin kernel from the kernel list for your notebook:"
   ]
  },
  {
   "cell_type": "markdown",
   "metadata": {},
   "source": [
    "<img src=\"kotlinKernel.png\" />"
   ]
  },
  {
   "cell_type": "markdown",
   "metadata": {},
   "source": [
    "You can run this notebook _in situ_ by invoking `kernel -> Restart kernel and Run All Cells` from the Jupyter Lab menu."
   ]
  },
  {
   "cell_type": "markdown",
   "metadata": {},
   "source": [
    "<img src=\"kotlinKernelRunAll.png\" />"
   ]
  },
  {
   "cell_type": "markdown",
   "metadata": {},
   "source": [
    "### 2.Essentials"
   ]
  },
  {
   "cell_type": "markdown",
   "metadata": {},
   "source": [
    "Kotlin is Java under the hood per this example involving inferred type `String`:"
   ]
  },
  {
   "cell_type": "code",
   "execution_count": 1,
   "metadata": {},
   "outputs": [
    {
     "name": "stdout",
     "output_type": "stream",
     "text": [
      "hello\n",
      "class kotlin.String\n",
      "class java.lang.String\n"
     ]
    }
   ],
   "source": [
    "val greet = \"hello\"\n",
    "println(greet)\n",
    "println(greet::class)\n",
    "println(greet.javaClass)"
   ]
  },
  {
   "cell_type": "markdown",
   "metadata": {},
   "source": [
    "`try` and `catch` are optional as are classes and functions for that matter."
   ]
  },
  {
   "cell_type": "code",
   "execution_count": 2,
   "metadata": {},
   "outputs": [
    {
     "name": "stdout",
     "output_type": "stream",
     "text": [
      "calling epicFail....\n",
      "Line_1_jupyter.epicFail(Line_1.jupyter.kts:3)\n",
      "Line_1_jupyter.<init>(Line_1.jupyter.kts:7)\n"
     ]
    }
   ],
   "source": [
    "fun epicFail() {\n",
    "    println(\"calling epicFail....\")\n",
    "    throw RuntimeException(\"none\")\n",
    "}\n",
    "\n",
    "try {\n",
    "    epicFail()\n",
    "} catch(ex: Exception) {\n",
    "    var stackTrace = ex.getStackTrace()\n",
    "    println(stackTrace[0])\n",
    "    println(stackTrace[1])\n",
    "}"
   ]
  },
  {
   "cell_type": "markdown",
   "metadata": {},
   "source": [
    "We should favour immutable `val` over mutable `var`.  Here's an example with a string template:"
   ]
  },
  {
   "cell_type": "code",
   "execution_count": 3,
   "metadata": {},
   "outputs": [
    {
     "name": "stdout",
     "output_type": "stream",
     "text": [
      "This is a message for Batman\n"
     ]
    }
   ],
   "source": [
    "fun incomingMessage(name: String): String {\n",
    "    val s = \"This is a message for $name\"\n",
    "    return s\n",
    "}\n",
    "\n",
    "println(incomingMessage(\"Batman\"))"
   ]
  },
  {
   "cell_type": "markdown",
   "metadata": {},
   "source": [
    "### 3.Functions"
   ]
  },
  {
   "cell_type": "markdown",
   "metadata": {},
   "source": [
    "#### 3.1 Creation"
   ]
  },
  {
   "cell_type": "markdown",
   "metadata": {},
   "source": [
    "All Kotlin functions are *expressions* that return a value.  Default inferred type is `Unit`:"
   ]
  },
  {
   "cell_type": "code",
   "execution_count": 4,
   "metadata": {},
   "outputs": [
    {
     "name": "stdout",
     "output_type": "stream",
     "text": [
      "Hello\n"
     ]
    }
   ],
   "source": [
    "fun greet(): Unit = println(\"Hello\")\n",
    "val message: Unit = greet()"
   ]
  },
  {
   "cell_type": "markdown",
   "metadata": {},
   "source": [
    "When writing functions favour *single-expression function* form with type inference as follows:"
   ]
  },
  {
   "cell_type": "code",
   "execution_count": 5,
   "metadata": {
    "tags": []
   },
   "outputs": [
    {
     "name": "stdout",
     "output_type": "stream",
     "text": [
      "Hello\n"
     ]
    }
   ],
   "source": [
    "fun greet() = \"Hello\"\n",
    "println(greet())"
   ]
  },
  {
   "cell_type": "markdown",
   "metadata": {
    "tags": []
   },
   "source": [
    "Default parameters:"
   ]
  },
  {
   "cell_type": "code",
   "execution_count": 6,
   "metadata": {},
   "outputs": [
    {
     "name": "stdout",
     "output_type": "stream",
     "text": [
      "Hello, Adam\n",
      "Hello, Eve\n",
      "Hello, Alice\n"
     ]
    }
   ],
   "source": [
    "fun greet(name: String = \"Adam\"): String = \"Hello, $name\"\n",
    "println(greet())\n",
    "println(greet(\"Eve\"))\n",
    "println(greet(name = \"Alice\"))"
   ]
  },
  {
   "cell_type": "markdown",
   "metadata": {},
   "source": [
    "#### 3.2 Vararg"
   ]
  },
  {
   "cell_type": "code",
   "execution_count": 7,
   "metadata": {},
   "outputs": [
    {
     "name": "stdout",
     "output_type": "stream",
     "text": [
      "12\n"
     ]
    }
   ],
   "source": [
    "fun max(vararg numbers: Int): Int {\n",
    "    var large = Int.MIN_VALUE\n",
    "    for (number in numbers) {\n",
    "        large = if (number > large) number else large\n",
    "    }\n",
    "    return large\n",
    "}\n",
    "\n",
    "println(max(1, 5, 7, 12, 7, 3))"
   ]
  },
  {
   "cell_type": "markdown",
   "metadata": {},
   "source": [
    "Can also use the spread operator:"
   ]
  },
  {
   "cell_type": "code",
   "execution_count": 8,
   "metadata": {},
   "outputs": [
    {
     "name": "stdout",
     "output_type": "stream",
     "text": [
      "12\n"
     ]
    }
   ],
   "source": [
    "val values = intArrayOf(1, 5, 7, 12, 7, 3)\n",
    "println(max(*values))"
   ]
  },
  {
   "cell_type": "markdown",
   "metadata": {},
   "source": [
    "### 4. Iteration"
   ]
  },
  {
   "cell_type": "markdown",
   "metadata": {},
   "source": [
    "#### 4.1 Range"
   ]
  },
  {
   "cell_type": "markdown",
   "metadata": {},
   "source": [
    "Can iterate a range:"
   ]
  },
  {
   "cell_type": "code",
   "execution_count": 9,
   "metadata": {},
   "outputs": [
    {
     "name": "stdout",
     "output_type": "stream",
     "text": [
      "1,2,3,4,5,"
     ]
    }
   ],
   "source": [
    "for (i in 1..5) { print(\"$i,\") }"
   ]
  },
  {
   "cell_type": "code",
   "execution_count": 10,
   "metadata": {},
   "outputs": [
    {
     "name": "stdout",
     "output_type": "stream",
     "text": [
      "10,7,4,1,"
     ]
    }
   ],
   "source": [
    "for (i in 10 downTo 0 step 3) { print(\"$i,\") }"
   ]
  },
  {
   "cell_type": "markdown",
   "metadata": {},
   "source": [
    "#### 4.2 Arrays and Lists"
   ]
  },
  {
   "cell_type": "code",
   "execution_count": 11,
   "metadata": {},
   "outputs": [
    {
     "name": "stdout",
     "output_type": "stream",
     "text": [
      "1, 2, 3, 5, 7, "
     ]
    }
   ],
   "source": [
    "val array = arrayOf(1, 2, 3, 5, 7)\n",
    "for (e in array) { print(\"$e, \") }"
   ]
  },
  {
   "cell_type": "markdown",
   "metadata": {},
   "source": [
    "Can also use `list`:"
   ]
  },
  {
   "cell_type": "code",
   "execution_count": 12,
   "metadata": {},
   "outputs": [
    {
     "name": "stdout",
     "output_type": "stream",
     "text": [
      "0: 1, 1: 2, 2: 3, 3: 5, 4: 7, "
     ]
    }
   ],
   "source": [
    "val numbers = listOf(1, 2, 3, 5, 7)\n",
    "for ((index,e) in numbers.withIndex()) { print(\"$index: $e, \") }"
   ]
  },
  {
   "cell_type": "markdown",
   "metadata": {},
   "source": [
    "#### 4.3 `when`"
   ]
  },
  {
   "cell_type": "markdown",
   "metadata": {},
   "source": [
    "`when` used as an expression to compactly cover a range of cases:"
   ]
  },
  {
   "cell_type": "code",
   "execution_count": 13,
   "metadata": {},
   "outputs": [
    {
     "name": "stdout",
     "output_type": "stream",
     "text": [
      "true\n",
      "true\n",
      "true\n",
      "true\n"
     ]
    }
   ],
   "source": [
    "fun isAlive(alive: Boolean, numberOfLiveNeighbours: Int): Boolean = when {\n",
    "    numberOfLiveNeighbours < 2 -> false\n",
    "    numberOfLiveNeighbours > 3 -> false\n",
    "    numberOfLiveNeighbours == 3 -> true\n",
    "    else -> alive && numberOfLiveNeighbours == 2\n",
    "}\n",
    "\n",
    "println(isAlive(true, 2) == true)\n",
    "println(isAlive(false, 2) == false) \n",
    "println(isAlive(false, 3) == true) \n",
    "println(isAlive(true, 3) == true) "
   ]
  },
  {
   "cell_type": "markdown",
   "metadata": {},
   "source": [
    "`when` as a statement returning Unit:"
   ]
  },
  {
   "cell_type": "code",
   "execution_count": 14,
   "metadata": {},
   "outputs": [
    {
     "name": "stdout",
     "output_type": "stream",
     "text": [
      "8 cores\n"
     ]
    }
   ],
   "source": [
    "fun systemInfo(): Unit = \n",
    "    when (val numberOfCores = Runtime.getRuntime().availableProcessors()) {\n",
    "        1 -> println(\"1 core\")\n",
    "        in 2..16 -> println(\"$numberOfCores cores\")\n",
    "        else -> println(\"$numberOfCores.  I want your machine!\")\n",
    "    }\n",
    "    \n",
    "systemInfo()"
   ]
  },
  {
   "cell_type": "markdown",
   "metadata": {},
   "source": [
    "### 5. Collections"
   ]
  },
  {
   "cell_type": "markdown",
   "metadata": {},
   "source": [
    "There are a number of collections that provide additional iterator extension functions and views:\n",
    "* `Pair` = tuple of two values\n",
    "* `Tuple` = tuple of three values\n",
    "* `Array` = indexed fixed size collection of objects/primitives\n",
    "* `List` = ordered collection of objects\n",
    "* `Set` = unordered collection of objects\n",
    "* `Map` = associative dictionary or map of keys and values"
   ]
  },
  {
   "cell_type": "markdown",
   "metadata": {},
   "source": [
    "Kotlin provides two different views for `Array`, `List`, `Set` and `Map`, the read-only immutable view and the read-write or mutable view."
   ]
  },
  {
   "cell_type": "markdown",
   "metadata": {},
   "source": [
    "#### 5.1 `Pair`"
   ]
  },
  {
   "cell_type": "markdown",
   "metadata": {},
   "source": [
    "A pair of objects with precise syntax:"
   ]
  },
  {
   "cell_type": "code",
   "execution_count": 15,
   "metadata": {},
   "outputs": [
    {
     "name": "stdout",
     "output_type": "stream",
     "text": [
      "Airport: LAX: Temperature: 34 C\n",
      "Airport: SFO: Temperature: 33 C\n",
      "Airport: SEA: Temperature: 33 C\n",
      "Airport: HTH: Temperature: 33 C\n"
     ]
    }
   ],
   "source": [
    "val airports = listOf(\"LAX\", \"SFO\", \"SEA\", \"HTH\")\n",
    "\n",
    "fun getTemperatureAtAirport(code: String): String = \"${Math.round(Math.random() + 30) + code.count()} C\"\n",
    "// Note the following creates a pair for the temperature map\n",
    "val temperatures = airports.map { code -> code to getTemperatureAtAirport(code) }\n",
    "for (temperature in temperatures) {\n",
    "    println(\"Airport: ${temperature.first}: Temperature: ${temperature.second}\")\n",
    "}"
   ]
  },
  {
   "cell_type": "markdown",
   "metadata": {},
   "source": [
    "#### 5.2 `Arrays`"
   ]
  },
  {
   "cell_type": "markdown",
   "metadata": {},
   "source": [
    "Only use when low-level optimisation is required. Otherwise use `list`."
   ]
  },
  {
   "cell_type": "code",
   "execution_count": 16,
   "metadata": {},
   "outputs": [
    {
     "name": "stdout",
     "output_type": "stream",
     "text": [
      "1, 2, 3\n"
     ]
    }
   ],
   "source": [
    "val numbers = intArrayOf(1, 2, 3)\n",
    "println(numbers.joinToString())"
   ]
  },
  {
   "cell_type": "markdown",
   "metadata": {},
   "source": [
    "#### 4.3 `List`"
   ]
  },
  {
   "cell_type": "code",
   "execution_count": 17,
   "metadata": {},
   "outputs": [
    {
     "name": "stdout",
     "output_type": "stream",
     "text": [
      "[Apple, Banana, Grape, Orange]\n"
     ]
    }
   ],
   "source": [
    "val fruits: List<String> = listOf(\"Apple\", \"Banana\", \"Grape\")\n",
    "val fruits2 = fruits + \"Orange\"\n",
    "println(fruits2)"
   ]
  },
  {
   "cell_type": "markdown",
   "metadata": {},
   "source": [
    "#### 5.3 `Map`"
   ]
  },
  {
   "cell_type": "markdown",
   "metadata": {},
   "source": [
    "Map can be built as follows:"
   ]
  },
  {
   "cell_type": "code",
   "execution_count": 18,
   "metadata": {},
   "outputs": [
    {
     "name": "stdout",
     "output_type": "stream",
     "text": [
      "Map has keys [Monkey, Carrot, Quartz] and values [Animal, Vegetable, Mineral]\n"
     ]
    }
   ],
   "source": [
    "val things = mapOf(\"Monkey\" to \"Animal\", \"Carrot\" to \"Vegetable\", \"Quartz\" to \"Mineral\")\n",
    "val typesOfThings = things.keys\n",
    "val theThings = things.values\n",
    "println(\"Map has keys $typesOfThings and values $theThings\")"
   ]
  },
  {
   "cell_type": "code",
   "execution_count": 19,
   "metadata": {},
   "outputs": [
    {
     "name": "stdout",
     "output_type": "stream",
     "text": [
      "Monkey: Animal, Carrot: Vegetable, Quartz: Mineral, "
     ]
    }
   ],
   "source": [
    "for ((k,v) in things){ print(\"$k: $v, \")}"
   ]
  },
  {
   "cell_type": "markdown",
   "metadata": {},
   "source": [
    "### 6. Type Safety"
   ]
  },
  {
   "cell_type": "markdown",
   "metadata": {},
   "source": [
    "#### 6.1. `Any`"
   ]
  },
  {
   "cell_type": "markdown",
   "metadata": {},
   "source": [
    "All classes in Kotlin inherit from `Any`.  Using to give you the maximum flexibility on input/output parameters."
   ]
  },
  {
   "cell_type": "markdown",
   "metadata": {},
   "source": [
    "#### 6.2 Nullable"
   ]
  },
  {
   "cell_type": "markdown",
   "metadata": {},
   "source": [
    "Non-nullable types all have a nullable counterparts.  Nullable types have a `?` suffix.  For example, a nullable `String` would be `String?`.  We can merge a `null` check and call to method or property using `?.` the **safe-call operator**.\n",
    "Here is a function that can take a null string and also return a null using safe-call:"
   ]
  },
  {
   "cell_type": "code",
   "execution_count": 20,
   "metadata": {},
   "outputs": [
    {
     "name": "stdout",
     "output_type": "stream",
     "text": [
      "SENOJ DNA HTIMS\n",
      "null\n"
     ]
    }
   ],
   "source": [
    "fun transformer(name: String?): String? {\n",
    "    return name?.reversed()?.toUpperCase()\n",
    "}\n",
    "\n",
    "println(transformer(\"smith and jones\"))\n",
    "println(transformer(null))"
   ]
  },
  {
   "cell_type": "markdown",
   "metadata": {},
   "source": [
    "The **elvis operator** `?:` allows us to return something other than `null`:"
   ]
  },
  {
   "cell_type": "code",
   "execution_count": 21,
   "metadata": {},
   "outputs": [
    {
     "name": "stdout",
     "output_type": "stream",
     "text": [
      "SENOJ DNA HTIMS\n",
      "joker\n"
     ]
    }
   ],
   "source": [
    "fun transformer(name: String?): String? {\n",
    "    return name?.reversed()?.toUpperCase() ?: \"joker\"\n",
    "}\n",
    "\n",
    "println(transformer(\"smith and jones\"))\n",
    "println(transformer(null))"
   ]
  },
  {
   "cell_type": "markdown",
   "metadata": {},
   "source": [
    "#### 6.3 Type checks and casts"
   ]
  },
  {
   "cell_type": "markdown",
   "metadata": {},
   "source": [
    "Type check with `is` and typecast with `as`."
   ]
  },
  {
   "cell_type": "markdown",
   "metadata": {},
   "source": [
    "#### 6.4 Generic Types"
   ]
  },
  {
   "cell_type": "markdown",
   "metadata": {},
   "source": [
    "**Covariance** permits the use of a derived class of a parametric type T to address a situation such as this:"
   ]
  },
  {
   "cell_type": "code",
   "execution_count": 22,
   "metadata": {},
   "outputs": [
    {
     "name": "stderr",
     "output_type": "stream",
     "text": [
      "Line_21.jupyter.kts (9:15 - 22) Type mismatch: inferred type is Array<Line_21_jupyter.Banana> but Array<Line_21_jupyter.Fruit> was expected"
     ]
    }
   ],
   "source": [
    "open class Fruit\n",
    "class Banana: Fruit()\n",
    "class Orange: Fruit()\n",
    "\n",
    "fun receiveFruits(fruits: Array<Fruit>) {\n",
    "    println(\"Number of fruits = ${fruits.size}\")\n",
    "}\n",
    "val bananas: Array<Banana> = arrayOf()\n",
    "receiveFruits(bananas)"
   ]
  },
  {
   "cell_type": "markdown",
   "metadata": {},
   "source": [
    "as follows with `out` to capture the intent to accept a type itself or any of its deived types in its place:"
   ]
  },
  {
   "cell_type": "code",
   "execution_count": 23,
   "metadata": {},
   "outputs": [
    {
     "name": "stdout",
     "output_type": "stream",
     "text": [
      "Number of fruits = 2\n"
     ]
    }
   ],
   "source": [
    "open class Fruit\n",
    "class Banana: Fruit()\n",
    "class Orange: Fruit()\n",
    "\n",
    "fun receiveFruits(fruits: Array<out Fruit>) {\n",
    "    println(\"Number of fruits = ${fruits.size}\")\n",
    "}\n",
    "val bananas: Array<Banana> = arrayOf(Banana(), Banana())\n",
    "receiveFruits(bananas)"
   ]
  },
  {
   "cell_type": "markdown",
   "metadata": {},
   "source": [
    "**Contravariance** permits the use of a super class of a parametric type T to address a situation such as this with `in`:"
   ]
  },
  {
   "cell_type": "code",
   "execution_count": 24,
   "metadata": {},
   "outputs": [],
   "source": [
    "fun copyBasket(from: Array<out Fruit>, to: Array<in Fruit>) {\n",
    "    for (i in 0 until from.size){\n",
    "        to[i] = from[i]\n",
    "    }\n",
    "}\n",
    "\n",
    "val bananaBasket: Array<Banana> = arrayOf(Banana(), Banana())\n",
    "val fruitBasket = Array<Fruit>(2) { _ -> Fruit() }\n",
    "copyBasket(bananaBasket, fruitBasket)"
   ]
  },
  {
   "cell_type": "markdown",
   "metadata": {},
   "source": [
    "### 7. Objects and Classes"
   ]
  },
  {
   "cell_type": "markdown",
   "metadata": {},
   "source": [
    "#### 7.1 Singleton"
   ]
  },
  {
   "cell_type": "markdown",
   "metadata": {},
   "source": [
    "Using **object declaration**:"
   ]
  },
  {
   "cell_type": "code",
   "execution_count": 25,
   "metadata": {},
   "outputs": [
    {
     "name": "stdout",
     "output_type": "stream",
     "text": [
      "Circle of radius 1.0\n"
     ]
    }
   ],
   "source": [
    "object Circle {\n",
    "    val radius: Double = 1.0\n",
    "    val x: Int = 0\n",
    "    val y: Int = 0\n",
    "    \n",
    "    fun getCircle(): String {\n",
    "        return \"Circle of radius $radius\"\n",
    "    }\n",
    "}\n",
    "\n",
    "println(Circle.getCircle())"
   ]
  },
  {
   "cell_type": "markdown",
   "metadata": {},
   "source": [
    "#### 7.2 Classes"
   ]
  },
  {
   "cell_type": "markdown",
   "metadata": {},
   "source": [
    "Functions for behaviour, singletons for computation, classes for state.\n",
    "The simplest class under the hood creates two properties, a constructor, getters and a setter:"
   ]
  },
  {
   "cell_type": "code",
   "execution_count": 26,
   "metadata": {},
   "outputs": [
    {
     "name": "stdout",
     "output_type": "stream",
     "text": [
      "blue\n"
     ]
    }
   ],
   "source": [
    "class Car(val yearOfMake: Int, var carColor: String)\n",
    " \n",
    "val car = Car(2017, \"orange\")\n",
    "car.carColor = \"blue\"\n",
    "println(car.carColor)"
   ]
  },
  {
   "cell_type": "markdown",
   "metadata": {},
   "source": [
    "The primary constructor declaration is part of the first line.  A class can have zero or more `init` blocks which are executed as part of the primary constructor execution.  You can also define secondary constructors using `constructor`. We can also add **instance methods**:"
   ]
  },
  {
   "cell_type": "code",
   "execution_count": 27,
   "metadata": {},
   "outputs": [
    {
     "name": "stdout",
     "output_type": "stream",
     "text": [
      "90\n",
      "2017, orange, 90\n"
     ]
    }
   ],
   "source": [
    "class Car(val yearOfMake: Int, var carColor: String) {\n",
    "    var color = carColor\n",
    "    var fuelLevel = 100\n",
    "    \n",
    "    internal fun details() = \"$yearOfMake, $color, $fuelLevel\"\n",
    "    \n",
    "    init {\n",
    "        if (yearOfMake < 2020) { fuelLevel = 90}\n",
    "    }\n",
    "}\n",
    " \n",
    "val car = Car(2017, \"orange\")\n",
    "car.carColor = \"blue\"\n",
    "println(car.fuelLevel)\n",
    "println(car.details())"
   ]
  },
  {
   "cell_type": "markdown",
   "metadata": {},
   "source": [
    "#### 7.3 Companions"
   ]
  },
  {
   "cell_type": "markdown",
   "metadata": {},
   "source": [
    "Companion objects are singletons defined within a class so can be used as a Factory, but be aware, state is shared across existing objects which can lead to unexpected results per this example:"
   ]
  },
  {
   "cell_type": "code",
   "execution_count": 28,
   "metadata": {
    "tags": []
   },
   "outputs": [
    {
     "name": "stdout",
     "output_type": "stream",
     "text": [
      "Honda\n",
      "Honda\n"
     ]
    }
   ],
   "source": [
    "class Car(val yearOfMake: Int, val carColor: String) {\n",
    "    var color = carColor\n",
    "    var fuelLevel = 100\n",
    "    \n",
    "    fun setManufacturer(make: String) { manufacturer = make }\n",
    "    \n",
    "    fun printManufacturer() {\n",
    "        println(manufacturer)\n",
    "    }\n",
    "    \n",
    "    companion object {\n",
    "        var manufacturer = \"Renault\"\n",
    "    }\n",
    "}\n",
    " \n",
    "val carOrange = Car(2017, \"orange\")\n",
    "val carRed = Car(2017, \"red\")\n",
    "\n",
    "carOrange.setManufacturer(\"Ford\")\n",
    "carRed.setManufacturer(\"Honda\")\n",
    "\n",
    "carOrange.printManufacturer()\n",
    "carRed.printManufacturer()"
   ]
  },
  {
   "cell_type": "markdown",
   "metadata": {
    "tags": []
   },
   "source": [
    "### 8. Class Hierarchies"
   ]
  },
  {
   "cell_type": "markdown",
   "metadata": {},
   "source": [
    "#### 8.1 Interfaces"
   ]
  },
  {
   "cell_type": "markdown",
   "metadata": {},
   "source": [
    "Interfaces are used to specify the behaviour of abstractions.  In the following code we cannot use `getColor` or `getWheels` as they are generated for Java interop:"
   ]
  },
  {
   "cell_type": "code",
   "execution_count": 29,
   "metadata": {
    "tags": []
   },
   "outputs": [
    {
     "name": "stdout",
     "output_type": "stream",
     "text": [
      "orange Ford with 4 wheels\n",
      "yellow Brompton with 2 wheels\n"
     ]
    }
   ],
   "source": [
    "interface Vehicle {\n",
    "    val name: String              // abstract properties\n",
    "    val color: String        \n",
    "    val wheels: Int\n",
    "    \n",
    "    fun getColorOfCar(): String   // abstract methods\n",
    "    fun getNumberOfWheels(): Int\n",
    "    \n",
    "    fun getDetail(): String {     // method with default implementation\n",
    "        return \"${getNumberOfWheels()}, ${getColorOfCar()}\" \n",
    "    }\n",
    "}\n",
    "\n",
    "class Car(val brandName: String, val carColor: String) : Vehicle {\n",
    "    override val name = brandName\n",
    "    override val color = carColor\n",
    "    override val wheels = 4\n",
    "\n",
    "    override fun getColorOfCar(): String { return color }\n",
    "    override fun getNumberOfWheels(): Int { return wheels }\n",
    "}\n",
    "\n",
    "class Bike(val brandName: String, val carColor: String) : Vehicle {\n",
    "    override val name = brandName\n",
    "    override val color = carColor\n",
    "    override val wheels = 2\n",
    "    \n",
    "    override fun getColorOfCar(): String { return color }\n",
    "    override fun getNumberOfWheels(): Int { return wheels }\n",
    "}\n",
    "\n",
    "val car = Car(\"Ford\", \"orange\")\n",
    "val bike = Bike(\"Brompton\", \"yellow\")\n",
    "println(\"${car.color} ${car.name} with ${car.wheels} wheels\")\n",
    "println(\"${bike.color} ${bike.name} with ${bike.wheels} wheels\")"
   ]
  },
  {
   "cell_type": "markdown",
   "metadata": {},
   "source": [
    "#### 8.2 Abstract classes"
   ]
  },
  {
   "cell_type": "markdown",
   "metadata": {},
   "source": [
    "Interfaces can't contain fields but a class may implement multiple interfaces.  Abstract classes can have fields but a class may only extend from one abstract class.  Use abstract classes when you need to reuse state between multiple classes."
   ]
  },
  {
   "cell_type": "code",
   "execution_count": 30,
   "metadata": {},
   "outputs": [
    {
     "name": "stdout",
     "output_type": "stream",
     "text": [
      "orange Ford with 4 wheels\n",
      "yellow Brompton with 2 wheels\n"
     ]
    }
   ],
   "source": [
    "abstract class Vehicle(val brandName: String, val carColor: String) {\n",
    "    val name: String  = brandName            // concrete properties\n",
    "    val color: String = carColor      \n",
    "    abstract val wheels: Int\n",
    "    \n",
    "    abstract fun getColorOfCar(): String // method with default implementation\n",
    "    abstract fun getNumberOfWheels(): Int\n",
    "    \n",
    "    fun getDetail(): String {            // method with default implementation\n",
    "        return \"${getNumberOfWheels()}, ${getColorOfCar()}\" \n",
    "    }\n",
    "}\n",
    "\n",
    "class Car(brandName: String,  carColor: String) : Vehicle(brandName, carColor) {\n",
    "    override val wheels: Int = 4\n",
    "\n",
    "    override fun getColorOfCar(): String { return color }\n",
    "    override fun getNumberOfWheels(): Int { return wheels }\n",
    "}\n",
    "\n",
    "class Bike(brandName: String, carColor: String) : Vehicle(brandName, carColor) {\n",
    "    override val wheels = 2\n",
    "    \n",
    "    override fun getColorOfCar(): String { return color }\n",
    "    override fun getNumberOfWheels(): Int { return wheels }\n",
    "}\n",
    "\n",
    "val car = Car(\"Ford\", \"orange\")\n",
    "val bike = Bike(\"Brompton\", \"yellow\")\n",
    "println(\"${car.color} ${car.name} with ${car.wheels} wheels\")\n",
    "println(\"${bike.color} ${bike.name} with ${bike.wheels} wheels\")"
   ]
  },
  {
   "cell_type": "markdown",
   "metadata": {},
   "source": [
    "#### 8.3 Inheritance"
   ]
  },
  {
   "cell_type": "markdown",
   "metadata": {},
   "source": [
    "Kotlin classes are closed for extention by default. Only classes marked `open` can be inherited from.  Only `open` methods from an `open` class may be overridden:"
   ]
  },
  {
   "cell_type": "code",
   "execution_count": 31,
   "metadata": {},
   "outputs": [
    {
     "name": "stdout",
     "output_type": "stream",
     "text": [
      "orange Ford with 4 wheels\n",
      "yellow Brompton with 2 wheels\n"
     ]
    }
   ],
   "source": [
    "open class Vehicle(val brandName: String, val carColor: String) {\n",
    "    val name: String  = brandName            // concrete properties\n",
    "    val color: String = carColor      \n",
    "    open val wheels: Int = 0\n",
    "    \n",
    "    open fun getColorOfCar(): String { return color } // method with default implementation\n",
    "    open fun getNumberOfWheels(): Int { return wheels }\n",
    "    \n",
    "    fun getDetail(): String {            // method with default implementation\n",
    "        return \"${getNumberOfWheels()}, ${getColorOfCar()}\" \n",
    "    }\n",
    "}\n",
    "\n",
    "class Car(brandName: String, carColor: String) : Vehicle(brandName, carColor) {\n",
    "    override val wheels: Int = 4\n",
    "    var km: Int = 0\n",
    "    \n",
    "    fun drive(distance: Int) { km += distance }\n",
    "}\n",
    "\n",
    "class Bike(brandName: String, carColor: String) : Vehicle(brandName, carColor) {\n",
    "    override val wheels = 2\n",
    "    var m: Int = 0\n",
    "    \n",
    "    fun ride(distance: Int) { m += distance }\n",
    "}\n",
    "\n",
    "val car = Car(\"Ford\", \"orange\")\n",
    "val bike = Bike(\"Brompton\", \"yellow\")\n",
    "println(\"${car.color} ${car.name} with ${car.wheels} wheels\")\n",
    "println(\"${bike.color} ${bike.name} with ${bike.wheels} wheels\")"
   ]
  },
  {
   "cell_type": "markdown",
   "metadata": {},
   "source": [
    "### 9. Delegation"
   ]
  },
  {
   "cell_type": "markdown",
   "metadata": {},
   "source": [
    "Inheritance leads to tight coupling and is inflexible.  Delegation is more flexible than inheritance. Prefer delegation over inheritance.\n",
    "General guidance:\n",
    "* Use **inheritance** if you want an object of a class to be used in place of an object of another class.  eg. A is a B.\n",
    "* Use **delegation** if you want an object of a class to simply make use of an object of another class.  eg. A has a B."
   ]
  },
  {
   "cell_type": "markdown",
   "metadata": {},
   "source": [
    "In the example below, an instance of `CarOwner` has a `Car`.  The delegate handling then allows us to call methods on the delegate directly like this:"
   ]
  },
  {
   "cell_type": "code",
   "execution_count": 32,
   "metadata": {},
   "outputs": [
    {
     "name": "stdout",
     "output_type": "stream",
     "text": [
      "Elon has a silver Tesla with 4 wheels\n",
      "4, silver\n"
     ]
    }
   ],
   "source": [
    "interface Vehicle {\n",
    "    // abstract properties\n",
    "    val name: String\n",
    "    val color: String        \n",
    "    val wheels: Int\n",
    "    \n",
    "    // methods with default implementation\n",
    "    fun getColorOfCar(): String = color \n",
    "    fun getNumberOfWheels(): Int = wheels\n",
    "    fun getDetail(): String = \"${getNumberOfWheels()}, ${getColorOfCar()}\"\n",
    "}\n",
    "\n",
    "class Car(val brandName: String, val carColor: String) : Vehicle {\n",
    "    override val name = brandName\n",
    "    override val color = carColor\n",
    "    override val wheels = 4\n",
    "}\n",
    "\n",
    "class CarOwner(val ownersName: String, val carsName: String, val carColor: String) : Vehicle by Car(carsName, carColor) {\n",
    "    val ownerName: String = ownersName\n",
    "    \n",
    "}\n",
    "\n",
    "var owner = CarOwner(\"Elon\", \"Tesla\", \"silver\")\n",
    "println(\"${owner.ownerName} has a ${owner.color} ${owner.name} with ${owner.wheels} wheels\")\n",
    "println(\"${owner.getDetail()}\")"
   ]
  },
  {
   "cell_type": "markdown",
   "metadata": {},
   "source": [
    "You can delegate variables and properties and also use standard delegates like `lazy` and `observable`.   Here is an example of a delegate variable:"
   ]
  },
  {
   "cell_type": "code",
   "execution_count": 33,
   "metadata": {},
   "outputs": [
    {
     "name": "stdout",
     "output_type": "stream",
     "text": [
      "this is our starting string\n",
      "We updated it to a s***** string\n"
     ]
    }
   ],
   "source": [
    "import kotlin.reflect.KProperty\n",
    "\n",
    "class PoliteString(var content: String) {\n",
    "    operator fun getValue(thisRef: Any?, property: KProperty<*>) = content.replace(\"stupid\", \"s*****\")\n",
    "    operator fun setValue(thisRef: Any, property: KProperty<*>, value: String) {content = value}\n",
    "}\n",
    "\n",
    "var comment: String by PoliteString(\"this is our starting string\")\n",
    "println(comment)\n",
    "comment = \"We updated it to a stupid string\"\n",
    "println(comment)"
   ]
  },
  {
   "cell_type": "markdown",
   "metadata": {},
   "source": [
    "### 10. Functional Programming"
   ]
  },
  {
   "cell_type": "markdown",
   "metadata": {},
   "source": [
    "#### 10.1 `lambda`"
   ]
  },
  {
   "cell_type": "markdown",
   "metadata": {},
   "source": [
    "In Kotlin a **lambda expression** is a function with no name and an inferred return type of the form:"
   ]
  },
  {
   "cell_type": "raw",
   "metadata": {},
   "source": [
    "{ parameter list -> body }"
   ]
  },
  {
   "cell_type": "markdown",
   "metadata": {},
   "source": [
    "The body is separated from the parameter list with a `->`.  Try to avoid multiline lambdas."
   ]
  },
  {
   "cell_type": "markdown",
   "metadata": {},
   "source": [
    "Before we get to `lambda` let's start with an **imperative style** version of an `isPrime` function:"
   ]
  },
  {
   "cell_type": "code",
   "execution_count": 34,
   "metadata": {},
   "outputs": [
    {
     "name": "stdout",
     "output_type": "stream",
     "text": [
      "isPrime(1) = false, isPrime(2) = true, isPrime(3) = true, isPrime(4) = false, isPrime(5) = true, isPrime(6) = false, isPrime(7) = true, isPrime(8) = false, isPrime(9) = false, isPrime(10) = false, "
     ]
    }
   ],
   "source": [
    "fun isPrime(n: Int): Boolean {\n",
    "    var isPrime: Boolean = true\n",
    "    if (n == 1) { \n",
    "        isPrime = false \n",
    "    } \n",
    "    else {        \n",
    "        for (i in 2 until n) { \n",
    "            if (n%i == 0) {\n",
    "                isPrime = false\n",
    "                break\n",
    "            }\n",
    "        }\n",
    "    }\n",
    "    return isPrime\n",
    "}\n",
    "\n",
    "for (i in 1..10) { \n",
    "    print(\"isPrime($i) = ${isPrime(i)}, \") \n",
    "}"
   ]
  },
  {
   "cell_type": "markdown",
   "metadata": {},
   "source": [
    "We can turn this into a one liner compliant **functional style** `lambda` by considering the description of a prime into code: <br>\n",
    "<i>\"A number n is a prime number if n > 1 and not divisible by any number in the range 2 to n\"</i>:"
   ]
  },
  {
   "cell_type": "code",
   "execution_count": 35,
   "metadata": {},
   "outputs": [
    {
     "name": "stdout",
     "output_type": "stream",
     "text": [
      "isPrime(1) = false, isPrime(2) = true, isPrime(3) = true, isPrime(4) = false, isPrime(5) = true, isPrime(6) = false, isPrime(7) = true, isPrime(8) = false, isPrime(9) = false, isPrime(10) = false, "
     ]
    }
   ],
   "source": [
    "fun isPrime(n: Int) = n > 1 && (2 until n).none { i -> n%i == 0}\n",
    "\n",
    "for (i in 1..10) {\n",
    "    print(\"isPrime($i) = ${isPrime(i)}, \")\n",
    "}"
   ]
  },
  {
   "cell_type": "markdown",
   "metadata": {},
   "source": [
    "This implementation is as efficient as the imperative version becaus `none()` breaks out of the iteration on finding a divisor."
   ]
  },
  {
   "cell_type": "markdown",
   "metadata": {},
   "source": [
    "#### 10.2 Function references"
   ]
  },
  {
   "cell_type": "markdown",
   "metadata": {},
   "source": [
    "We can pass functions including lambdas as references.  The following example shows how to do this with another way of formulating the printing of prime numbers:"
   ]
  },
  {
   "cell_type": "code",
   "execution_count": 36,
   "metadata": {},
   "outputs": [
    {
     "name": "stdout",
     "output_type": "stream",
     "text": [
      "isPrime(1) = false, isPrime(2) = true, isPrime(3) = true, isPrime(4) = false, isPrime(5) = true, isPrime(6) = false, isPrime(7) = true, isPrime(8) = false, isPrime(9) = false, isPrime(10) = false, "
     ]
    }
   ],
   "source": [
    "fun mapTo(fn: (Int) -> Unit, n: Int){\n",
    "    (1..n).forEach { fn(it) }\n",
    "}\n",
    "\n",
    "mapTo( {i -> print(\"isPrime($i) = ${isPrime(i)}, \")}, 10)"
   ]
  },
  {
   "cell_type": "markdown",
   "metadata": {},
   "source": [
    "### 11. Internal Iteration"
   ]
  },
  {
   "cell_type": "code",
   "execution_count": null,
   "metadata": {},
   "outputs": [],
   "source": []
  }
 ],
 "metadata": {
  "kernelspec": {
   "display_name": "Kotlin",
   "language": "kotlin",
   "name": "kotlin"
  },
  "language_info": {
   "codemirror_mode": "text/x-kotlin",
   "file_extension": ".kt",
   "mimetype": "text/x-kotlin",
   "name": "kotlin",
   "pygments_lexer": "kotlin",
   "version": "1.5.0-dev-1206"
  }
 },
 "nbformat": 4,
 "nbformat_minor": 4
}
